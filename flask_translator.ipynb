{
 "cells": [
  {
   "cell_type": "code",
   "execution_count": 1,
   "metadata": {},
   "outputs": [
    {
     "name": "stdout",
     "output_type": "stream",
     "text": [
      "Requirement already satisfied: transformers in /Library/Frameworks/Python.framework/Versions/3.10/lib/python3.10/site-packages (4.49.0)\n",
      "Requirement already satisfied: torch in /Library/Frameworks/Python.framework/Versions/3.10/lib/python3.10/site-packages (2.5.1)\n",
      "Requirement already satisfied: flask in /Library/Frameworks/Python.framework/Versions/3.10/lib/python3.10/site-packages (3.1.0)\n",
      "Requirement already satisfied: flask-cors in /Library/Frameworks/Python.framework/Versions/3.10/lib/python3.10/site-packages (5.0.1)\n",
      "Requirement already satisfied: sentencepiece in /Library/Frameworks/Python.framework/Versions/3.10/lib/python3.10/site-packages (0.2.0)\n",
      "Requirement already satisfied: filelock in /Library/Frameworks/Python.framework/Versions/3.10/lib/python3.10/site-packages (from transformers) (3.16.1)\n",
      "Requirement already satisfied: huggingface-hub<1.0,>=0.26.0 in /Library/Frameworks/Python.framework/Versions/3.10/lib/python3.10/site-packages (from transformers) (0.29.2)\n",
      "Requirement already satisfied: numpy>=1.17 in /Library/Frameworks/Python.framework/Versions/3.10/lib/python3.10/site-packages (from transformers) (2.0.2)\n",
      "Requirement already satisfied: packaging>=20.0 in /Users/jonathan/Library/Python/3.10/lib/python/site-packages (from transformers) (24.1)\n",
      "Requirement already satisfied: pyyaml>=5.1 in /Library/Frameworks/Python.framework/Versions/3.10/lib/python3.10/site-packages (from transformers) (6.0.2)\n",
      "Requirement already satisfied: regex!=2019.12.17 in /Library/Frameworks/Python.framework/Versions/3.10/lib/python3.10/site-packages (from transformers) (2024.11.6)\n",
      "Requirement already satisfied: requests in /Library/Frameworks/Python.framework/Versions/3.10/lib/python3.10/site-packages (from transformers) (2.32.3)\n",
      "Requirement already satisfied: tokenizers<0.22,>=0.21 in /Library/Frameworks/Python.framework/Versions/3.10/lib/python3.10/site-packages (from transformers) (0.21.0)\n",
      "Requirement already satisfied: safetensors>=0.4.1 in /Library/Frameworks/Python.framework/Versions/3.10/lib/python3.10/site-packages (from transformers) (0.5.3)\n",
      "Requirement already satisfied: tqdm>=4.27 in /Library/Frameworks/Python.framework/Versions/3.10/lib/python3.10/site-packages (from transformers) (4.67.1)\n",
      "Requirement already satisfied: typing-extensions>=4.8.0 in /Users/jonathan/Library/Python/3.10/lib/python/site-packages (from torch) (4.12.2)\n",
      "Requirement already satisfied: networkx in /Library/Frameworks/Python.framework/Versions/3.10/lib/python3.10/site-packages (from torch) (3.4.2)\n",
      "Requirement already satisfied: jinja2 in /Library/Frameworks/Python.framework/Versions/3.10/lib/python3.10/site-packages (from torch) (3.1.4)\n",
      "Requirement already satisfied: fsspec in /Library/Frameworks/Python.framework/Versions/3.10/lib/python3.10/site-packages (from torch) (2024.10.0)\n",
      "Requirement already satisfied: sympy==1.13.1 in /Library/Frameworks/Python.framework/Versions/3.10/lib/python3.10/site-packages (from torch) (1.13.1)\n",
      "Requirement already satisfied: mpmath<1.4,>=1.1.0 in /Library/Frameworks/Python.framework/Versions/3.10/lib/python3.10/site-packages (from sympy==1.13.1->torch) (1.3.0)\n",
      "Requirement already satisfied: Werkzeug>=3.1 in /Library/Frameworks/Python.framework/Versions/3.10/lib/python3.10/site-packages (from flask) (3.1.3)\n",
      "Requirement already satisfied: itsdangerous>=2.2 in /Library/Frameworks/Python.framework/Versions/3.10/lib/python3.10/site-packages (from flask) (2.2.0)\n",
      "Requirement already satisfied: click>=8.1.3 in /Library/Frameworks/Python.framework/Versions/3.10/lib/python3.10/site-packages (from flask) (8.1.8)\n",
      "Requirement already satisfied: blinker>=1.9 in /Library/Frameworks/Python.framework/Versions/3.10/lib/python3.10/site-packages (from flask) (1.9.0)\n",
      "Requirement already satisfied: MarkupSafe>=2.0 in /Library/Frameworks/Python.framework/Versions/3.10/lib/python3.10/site-packages (from jinja2->torch) (3.0.2)\n",
      "Requirement already satisfied: charset-normalizer<4,>=2 in /Library/Frameworks/Python.framework/Versions/3.10/lib/python3.10/site-packages (from requests->transformers) (3.4.0)\n",
      "Requirement already satisfied: idna<4,>=2.5 in /Library/Frameworks/Python.framework/Versions/3.10/lib/python3.10/site-packages (from requests->transformers) (3.10)\n",
      "Requirement already satisfied: urllib3<3,>=1.21.1 in /Library/Frameworks/Python.framework/Versions/3.10/lib/python3.10/site-packages (from requests->transformers) (2.2.3)\n",
      "Requirement already satisfied: certifi>=2017.4.17 in /Library/Frameworks/Python.framework/Versions/3.10/lib/python3.10/site-packages (from requests->transformers) (2024.8.30)\n",
      "\n",
      "\u001b[1m[\u001b[0m\u001b[34;49mnotice\u001b[0m\u001b[1;39;49m]\u001b[0m\u001b[39;49m A new release of pip is available: \u001b[0m\u001b[31;49m24.3.1\u001b[0m\u001b[39;49m -> \u001b[0m\u001b[32;49m25.0.1\u001b[0m\n",
      "\u001b[1m[\u001b[0m\u001b[34;49mnotice\u001b[0m\u001b[1;39;49m]\u001b[0m\u001b[39;49m To update, run: \u001b[0m\u001b[32;49mpip install --upgrade pip\u001b[0m\n"
     ]
    }
   ],
   "source": [
    "!pip install transformers torch flask flask-cors sentencepiece"
   ]
  },
  {
   "cell_type": "code",
   "execution_count": 3,
   "metadata": {},
   "outputs": [
    {
     "name": "stdout",
     "output_type": "stream",
     "text": [
      " * Serving Flask app '__main__'\n",
      " * Debug mode: off\n"
     ]
    },
    {
     "name": "stderr",
     "output_type": "stream",
     "text": [
      "\u001b[31m\u001b[1mWARNING: This is a development server. Do not use it in a production deployment. Use a production WSGI server instead.\u001b[0m\n",
      " * Running on all addresses (0.0.0.0)\n",
      " * Running on http://127.0.0.1:5555\n",
      " * Running on http://192.168.100.10:5555\n",
      "\u001b[33mPress CTRL+C to quit\u001b[0m\n",
      "127.0.0.1 - - [08/Mar/2025 20:52:37] \"GET / HTTP/1.1\" 200 -\n",
      "127.0.0.1 - - [08/Mar/2025 20:52:40] \"POST /translate HTTP/1.1\" 200 -\n",
      "127.0.0.1 - - [08/Mar/2025 20:52:47] \"POST /translate HTTP/1.1\" 200 -\n",
      "127.0.0.1 - - [08/Mar/2025 20:53:02] \"POST /translate HTTP/1.1\" 200 -\n",
      "127.0.0.1 - - [08/Mar/2025 21:20:43] \"POST /translate HTTP/1.1\" 200 -\n",
      "127.0.0.1 - - [08/Mar/2025 21:20:46] \"POST /translate HTTP/1.1\" 200 -\n",
      "127.0.0.1 - - [08/Mar/2025 21:20:50] \"POST /translate HTTP/1.1\" 200 -\n",
      "127.0.0.1 - - [08/Mar/2025 21:20:51] \"POST /translate HTTP/1.1\" 200 -\n",
      "127.0.0.1 - - [08/Mar/2025 21:20:52] \"POST /translate HTTP/1.1\" 200 -\n",
      "127.0.0.1 - - [08/Mar/2025 21:20:57] \"POST /translate HTTP/1.1\" 200 -\n",
      "127.0.0.1 - - [08/Mar/2025 21:21:00] \"POST /translate HTTP/1.1\" 200 -\n",
      "127.0.0.1 - - [08/Mar/2025 21:35:15] \"POST /translate HTTP/1.1\" 200 -\n",
      "127.0.0.1 - - [08/Mar/2025 21:35:16] \"POST /translate HTTP/1.1\" 200 -\n",
      "127.0.0.1 - - [08/Mar/2025 21:35:25] \"POST /translate HTTP/1.1\" 200 -\n"
     ]
    }
   ],
   "source": [
    "from flask import Flask, request, jsonify\n",
    "from flask_cors import CORS  # Importar CORS\n",
    "from transformers import AutoModelForSeq2SeqLM, AutoTokenizer\n",
    "import torch\n",
    "from threading import Thread\n",
    "\n",
    "# Crear la app de Flask\n",
    "app = Flask(__name__)\n",
    "\n",
    "# Habilitar CORS para todas las rutas\n",
    "CORS(app)  # Esto habilita CORS para todos los orÃ­genes\n",
    "\n",
    "# Cargar el modelo de traducción\n",
    "model_name = \"Helsinki-NLP/opus-mt-en-es\"  # Modelo para traducir de inglés a español\n",
    "model = AutoModelForSeq2SeqLM.from_pretrained(model_name)\n",
    "tokenizer = AutoTokenizer.from_pretrained(model_name)\n",
    "\n",
    "\n",
    "# HTML como un string (lo puedes modificar)\n",
    "html_content = \"\"\"\n",
    "<!DOCTYPE html>\n",
    "<html lang=\"es\">\n",
    "<head>\n",
    "    <meta charset=\"UTF-8\">\n",
    "    <meta name=\"viewport\" content=\"width=device-width, initial-scale=1.0\">\n",
    "    <title>Servicio de Traducción</title>\n",
    "    <script>\n",
    "        async function sendTranslation() {\n",
    "            const text = document.getElementById(\"inputText\").value;\n",
    "            const response = await fetch(\"/translate\", {\n",
    "                method: \"POST\",\n",
    "                headers: {\n",
    "                    \"Content-Type\": \"application/json\"\n",
    "                },\n",
    "                body: JSON.stringify({ text: text })\n",
    "            });\n",
    "\n",
    "            const data = await response.json();\n",
    "            document.getElementById(\"translationResult\").innerText = `Traducción: ${data.translation}`;\n",
    "        }\n",
    "    </script>\n",
    "</head>\n",
    "<body>\n",
    "    <div style=\"max-width: 600px; margin: 0 auto; text-align: center;\">\n",
    "        <h1>Servicio de Traducción</h1>\n",
    "        <textarea id=\"inputText\" rows=\"4\" cols=\"50\" placeholder=\"Escribe un texto en inglés para traducir...\"></textarea>\n",
    "        <br><br>\n",
    "        <button onclick=\"sendTranslation()\">Obtener Traducción</button>\n",
    "        <p id=\"translationResult\" style=\"margin-top: 20px; font-size: 18px; font-weight: bold;\"></p>\n",
    "    </div>\n",
    "</body>\n",
    "</html>\n",
    "\"\"\"\n",
    "\n",
    "# Ruta para servir el HTML\n",
    "@app.route(\"/\")\n",
    "def home():\n",
    "    return html_content\n",
    "\n",
    "# Ruta para la predicciÃ³n\n",
    "@app.route(\"/translate\", methods=[\"POST\"])\n",
    "def translate():\n",
    "    data = request.json\n",
    "    inputs = tokenizer(data[\"text\"], return_tensors=\"pt\", truncation=True, padding=True)\n",
    "    with torch.no_grad():\n",
    "        outputs = model.generate(**inputs)\n",
    "    translated_text = tokenizer.decode(outputs[0], skip_special_tokens=True)\n",
    "\n",
    "    return jsonify({\"translation\": translated_text})\n",
    "\n",
    "# Ejecutar Flask en un hilo\n",
    "def run_flask():\n",
    "    app.run(host=\"0.0.0.0\", port=5555, debug=True)\n",
    "\n",
    "if __name__ == \"__main__\":\n",
    "    app.run(host=\"0.0.0.0\", port=5555)"
   ]
  },
  {
   "cell_type": "code",
   "execution_count": 4,
   "metadata": {},
   "outputs": [
    {
     "name": "stderr",
     "output_type": "stream",
     "text": [
      "/Library/Frameworks/Python.framework/Versions/3.10/lib/python3.10/site-packages/transformers/modeling_utils.py:2810: UserWarning: Moving the following attributes in the config to the generation config: {'max_length': 512, 'num_beams': 4, 'bad_words_ids': [[65000]]}. You are seeing this warning because you've set generation parameters in the model config, as opposed to in the generation config.\n",
      "  warnings.warn(\n"
     ]
    },
    {
     "data": {
      "text/plain": [
       "('./modelo_traductor/tokenizer_config.json',\n",
       " './modelo_traductor/special_tokens_map.json',\n",
       " './modelo_traductor/vocab.json',\n",
       " './modelo_traductor/source.spm',\n",
       " './modelo_traductor/target.spm',\n",
       " './modelo_traductor/added_tokens.json')"
      ]
     },
     "execution_count": 4,
     "metadata": {},
     "output_type": "execute_result"
    }
   ],
   "source": [
    "from transformers import AutoModelForSeq2SeqLM, AutoTokenizer\n",
    "\n",
    "model_name = \"Helsinki-NLP/opus-mt-en-es\"\n",
    "\n",
    "# Descargar y guardar el modelo localmente\n",
    "model = AutoModelForSeq2SeqLM.from_pretrained(model_name)\n",
    "tokenizer = AutoTokenizer.from_pretrained(model_name)\n",
    "\n",
    "# Guardar en una carpeta local\n",
    "model.save_pretrained(\"./modelo_traductor\")\n",
    "tokenizer.save_pretrained(\"./modelo_traductor\")"
   ]
  }
 ],
 "metadata": {
  "kernelspec": {
   "display_name": "Python 3",
   "language": "python",
   "name": "python3"
  },
  "language_info": {
   "codemirror_mode": {
    "name": "ipython",
    "version": 3
   },
   "file_extension": ".py",
   "mimetype": "text/x-python",
   "name": "python",
   "nbconvert_exporter": "python",
   "pygments_lexer": "ipython3",
   "version": "3.10.11"
  }
 },
 "nbformat": 4,
 "nbformat_minor": 2
}
